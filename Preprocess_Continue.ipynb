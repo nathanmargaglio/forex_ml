{
 "cells": [
  {
   "cell_type": "code",
   "execution_count": 33,
   "metadata": {},
   "outputs": [],
   "source": [
    "import pandas as pd\n",
    "import numpy as np\n",
    "from scipy.stats import zscore\n",
    "import os"
   ]
  },
  {
   "cell_type": "code",
   "execution_count": 34,
   "metadata": {},
   "outputs": [
    {
     "data": {
      "text/plain": [
       "['AUD_USD.pickle',\n",
       " 'EUR_USD.pickle',\n",
       " 'CAD_JPY.pickle',\n",
       " 'EUR_GBP.pickle',\n",
       " 'NZD_USD.pickle',\n",
       " 'EUR_JPY.pickle',\n",
       " 'AUD_JPY.pickle',\n",
       " 'USD_CAD.pickle',\n",
       " 'CHF_JPY.pickle',\n",
       " 'GBP_USD.pickle',\n",
       " 'AUD_NZD.pickle',\n",
       " 'GBP_JPY.pickle']"
      ]
     },
     "execution_count": 34,
     "metadata": {},
     "output_type": "execute_result"
    }
   ],
   "source": [
    "pairs = ['AUDJPY', 'AUDNZD', 'AUDUSD', 'CADJPY', 'CHFJPY', 'EURGBP', 'EURJPY', 'EURUSD', 'GBPJPY', 'GBPUSD', 'NZDUSD', 'USDCAD']\n",
    "os.listdir('data/per_pair')"
   ]
  },
  {
   "cell_type": "code",
   "execution_count": 114,
   "metadata": {},
   "outputs": [],
   "source": [
    "class DataStore:\n",
    "    def __init__(self, prepare_data=True):\n",
    "        \"\"\"Class to create, store, and fetch data\n",
    "        \"\"\"\n",
    "        \n",
    "        self.df = pd.DataFrame([])\n",
    "        \n",
    "        if prepare_data:\n",
    "            self.load_data('data/master.pickle')\n",
    "            self.prepare_state_space()\n",
    "        \n",
    "    def load_data(self, file):\n",
    "        self.clean_df = pd.read_pickle(file)\n",
    "        return self.clean_df\n",
    "        \n",
    "    def get_unique_pairs(self):\n",
    "        self.pairs = self.clean_df.pair.unique()\n",
    "        return self.pairs\n",
    "    \n",
    "    def slice_data_by_pair(self, pair):\n",
    "        return self.clean_df[self.clean_df.pair == pair]\n",
    "    \n",
    "    def gen_next_open(self, d):\n",
    "        d['next_open'] = d.open.shift(-1)\n",
    "        return d\n",
    "    \n",
    "    def sin_encode(self, t, T):\n",
    "        return np.sin(2 * np.pi * (t / T))\n",
    "\n",
    "    def encode_temporal(self, index, name):\n",
    "        _index = index\n",
    "        if name == \"day_of_week\":\n",
    "            index = index.dayofweek\n",
    "        if name == \"hour\":\n",
    "            index = index.hour\n",
    "        if name == \"minute\":\n",
    "            index = index.minute\n",
    "\n",
    "        T = len(index.unique())\n",
    "        return pd.Series(self.sin_encode(index, T), index=_index, name=name)\n",
    "    \n",
    "    def log_return(self, series):\n",
    "        return np.log(series) - np.log(series.shift(1))\n",
    "    \n",
    "    def rolling_zscore(self, arr):\n",
    "        return zscore(arr)[-1]\n",
    "    \n",
    "    def gen_pos_encoding(self, dff):\n",
    "        return pd.DataFrame(np.zeros(shape=(dff.index.size, 3)),\n",
    "                      columns=['pos_short', 'pos_neutral', 'pos_long'],\n",
    "                      index=dff.index)\n",
    "    \n",
    "    def gen_log_return(self, series, zscore_roll=96, lookback=8, clip=(-10,10)):\n",
    "        log_ret = self.log_return(series)\n",
    "        norms = log_ret.rolling(zscore_roll).apply(self.rolling_zscore, raw=False)\n",
    "        norms = norms.clip(*clip)\n",
    "\n",
    "        log_returns = {}\n",
    "        for s in range(lookback):\n",
    "            log_returns['{}_log_returns_{}'.format(series.name, s)] = norms.shift(s)\n",
    "\n",
    "        return pd.DataFrame(log_returns)\n",
    "    \n",
    "    def calculate_meta_variables(self, dff):\n",
    "        # Time Encoding\n",
    "        dff = dff.join(self.encode_temporal(dff.index, name='day_of_week'))\n",
    "        dff = dff.join(self.encode_temporal(dff.index, name='hour'))\n",
    "        dff = dff.join(self.encode_temporal(dff.index, name='minute'))\n",
    "\n",
    "        return dff\n",
    "\n",
    "\n",
    "    def calculate_market_variables(self, dff, label=''):\n",
    "        # Market Feature\n",
    "        _df = self.gen_log_return(dff.next_open)\n",
    "        _df = _df.join(self.gen_log_return(dff.volume))\n",
    "        _df.columns = [str(col) + '_' + label for col in _df.columns]\n",
    "        \n",
    "        return _df\n",
    "    \n",
    "    def prepare_state_space(self):\n",
    "        self.state = None\n",
    "        \n",
    "        self.dfps = {} # DataFrame Dictionary per Pair\n",
    "        pairs = self.get_unique_pairs()\n",
    "        \n",
    "        for pair in pairs:\n",
    "            print(pair)\n",
    "            _df = self.slice_data_by_pair(pair).copy()\n",
    "            _df = self.gen_next_open(_df)\n",
    "            _df = self.calculate_market_variables(_df, pair.replace('/', '_'))\n",
    "            self.dfps[pair] = _df\n",
    "            if type(self.state) == type(None):\n",
    "                self.state = _df\n",
    "            else:\n",
    "                self.state = self.state.join(_df)\n",
    "            \n",
    "        # Position Encoding\n",
    "        self.state = self.calculate_meta_variables(self.state)\n",
    "        self.state = self.state.join(self.gen_pos_encoding(self.state))"
   ]
  },
  {
   "cell_type": "code",
   "execution_count": 115,
   "metadata": {},
   "outputs": [
    {
     "name": "stdout",
     "output_type": "stream",
     "text": [
      "USD/CAD\n",
      "GBP/JPY\n",
      "AUD/USD\n",
      "AUD/JPY\n",
      "EUR/GBP\n",
      "EUR/JPY\n",
      "CHF/JPY\n",
      "GBP/USD\n",
      "EUR/USD\n",
      "AUD/NZD\n",
      "NZD/USD\n",
      "CAD/JPY\n"
     ]
    }
   ],
   "source": [
    "ds = DataStore()"
   ]
  },
  {
   "cell_type": "code",
   "execution_count": 132,
   "metadata": {
    "scrolled": true
   },
   "outputs": [],
   "source": [
    "df = None\n",
    "for key in ds.dfps:\n",
    "    if type(df) == type(None):\n",
    "        df = ds.dfps[key]\n",
    "    else:\n",
    "        df = df.join(ds.dfps[key])\n",
    "        \n",
    "df = ds.calculate_meta_variables(df)\n",
    "df = df.join(ds.gen_pos_encoding(df))"
   ]
  },
  {
   "cell_type": "code",
   "execution_count": 136,
   "metadata": {},
   "outputs": [],
   "source": [
    "df.to_pickle('data/state_space.pickle')"
   ]
  },
  {
   "cell_type": "code",
   "execution_count": null,
   "metadata": {},
   "outputs": [],
   "source": []
  }
 ],
 "metadata": {
  "kernelspec": {
   "display_name": "Python 3",
   "language": "python",
   "name": "python3"
  },
  "language_info": {
   "codemirror_mode": {
    "name": "ipython",
    "version": 3
   },
   "file_extension": ".py",
   "mimetype": "text/x-python",
   "name": "python",
   "nbconvert_exporter": "python",
   "pygments_lexer": "ipython3",
   "version": "3.6.5"
  }
 },
 "nbformat": 4,
 "nbformat_minor": 2
}
